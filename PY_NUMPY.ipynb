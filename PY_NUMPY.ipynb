{
  "nbformat": 4,
  "nbformat_minor": 0,
  "metadata": {
    "colab": {
      "provenance": [],
      "authorship_tag": "ABX9TyNHHitzEuSAY1NlQGb9SXD1",
      "include_colab_link": true
    },
    "kernelspec": {
      "name": "python3",
      "display_name": "Python 3"
    },
    "language_info": {
      "name": "python"
    }
  },
  "cells": [
    {
      "cell_type": "markdown",
      "metadata": {
        "id": "view-in-github",
        "colab_type": "text"
      },
      "source": [
        "<a href=\"https://colab.research.google.com/github/1belini/py-numpy/blob/main/PY_NUMPY.ipynb\" target=\"_parent\"><img src=\"https://colab.research.google.com/assets/colab-badge.svg\" alt=\"Open In Colab\"/></a>"
      ]
    },
    {
      "cell_type": "markdown",
      "source": [
        "# **Começando com Numpy**"
      ],
      "metadata": {
        "id": "GGpFooj33wkl"
      }
    },
    {
      "cell_type": "markdown",
      "source": [
        "dados recebidos do curso da alura"
      ],
      "metadata": {
        "id": "VGRotZCG4DBE"
      }
    },
    {
      "cell_type": "code",
      "execution_count": null,
      "metadata": {
        "id": "FzPVf0Cz2o2H"
      },
      "outputs": [],
      "source": [
        "import numpy as np"
      ]
    },
    {
      "cell_type": "code",
      "source": [
        "km = np.loadtxt('carros-km.txt')"
      ],
      "metadata": {
        "id": "gsd7X9id3SrA"
      },
      "execution_count": null,
      "outputs": []
    },
    {
      "cell_type": "code",
      "source": [
        "km "
      ],
      "metadata": {
        "id": "KSmEq03t3ba6"
      },
      "execution_count": null,
      "outputs": []
    },
    {
      "cell_type": "code",
      "source": [
        "anos = np.loadtxt('carros-anos.txt', dtype = int)"
      ],
      "metadata": {
        "id": "IguAtM3U3kzs"
      },
      "execution_count": null,
      "outputs": []
    },
    {
      "cell_type": "code",
      "source": [
        "anos"
      ],
      "metadata": {
        "id": "HcUIjfr_3v_3"
      },
      "execution_count": null,
      "outputs": []
    },
    {
      "cell_type": "markdown",
      "source": [
        "### **Obtendo a kilometragem média**"
      ],
      "metadata": {
        "id": "1FYTsfAJ4kc9"
      }
    },
    {
      "cell_type": "code",
      "source": [
        "km_media = km / (2019 - anos)"
      ],
      "metadata": {
        "id": "18YLNvPL4rec"
      },
      "execution_count": null,
      "outputs": []
    },
    {
      "cell_type": "code",
      "source": [
        "km_media"
      ],
      "metadata": {
        "id": "A2ZiSCUq4yz_"
      },
      "execution_count": null,
      "outputs": []
    },
    {
      "cell_type": "code",
      "source": [
        "type(km_media)"
      ],
      "metadata": {
        "colab": {
          "base_uri": "https://localhost:8080/"
        },
        "id": "4NylOiHl42nO",
        "outputId": "a18847ce-c9ad-47f7-f73a-02866ec797b8"
      },
      "execution_count": null,
      "outputs": [
        {
          "output_type": "execute_result",
          "data": {
            "text/plain": [
              "numpy.ndarray"
            ]
          },
          "metadata": {},
          "execution_count": 12
        }
      ]
    }
  ]
}